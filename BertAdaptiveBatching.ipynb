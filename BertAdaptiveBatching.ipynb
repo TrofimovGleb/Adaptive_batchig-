{
 "cells": [
  {
   "cell_type": "code",
   "execution_count": 2,
   "id": "186a495e-4fbd-491d-b977-25d391321134",
   "metadata": {
    "execution": {
     "iopub.execute_input": "2024-12-04T05:54:20.062642Z",
     "iopub.status.busy": "2024-12-04T05:54:20.061234Z",
     "iopub.status.idle": "2024-12-04T05:54:52.326092Z",
     "shell.execute_reply": "2024-12-04T05:54:52.324745Z",
     "shell.execute_reply.started": "2024-12-04T05:54:20.062562Z"
    },
    "tags": []
   },
   "outputs": [
    {
     "name": "stdout",
     "output_type": "stream",
     "text": [
      "Defaulting to user installation because normal site-packages is not writeable\n",
      "Requirement already satisfied: pytorch-pretrained-bert in /home/jupyter/.local/lib/python3.10/site-packages (0.6.2)\n",
      "Requirement already satisfied: pytorch-nlp in /home/jupyter/.local/lib/python3.10/site-packages (0.5.0)\n",
      "Requirement already satisfied: torch>=0.4.1 in /usr/local/lib/python3.10/dist-packages (from pytorch-pretrained-bert) (2.0.1+cu118)\n",
      "Requirement already satisfied: numpy in /usr/local/lib/python3.10/dist-packages (from pytorch-pretrained-bert) (1.22.4)\n",
      "Requirement already satisfied: boto3 in /usr/local/lib/python3.10/dist-packages (from pytorch-pretrained-bert) (1.20.24)\n",
      "Requirement already satisfied: requests in /usr/local/lib/python3.10/dist-packages (from pytorch-pretrained-bert) (2.27.1)\n",
      "Requirement already satisfied: tqdm in /usr/local/lib/python3.10/dist-packages (from pytorch-pretrained-bert) (4.65.0)\n",
      "Requirement already satisfied: regex in /usr/local/lib/python3.10/dist-packages (from pytorch-pretrained-bert) (2022.10.31)\n",
      "Requirement already satisfied: filelock in /usr/local/lib/python3.10/dist-packages (from torch>=0.4.1->pytorch-pretrained-bert) (3.12.2)\n",
      "Requirement already satisfied: typing-extensions in /usr/local/lib/python3.10/dist-packages (from torch>=0.4.1->pytorch-pretrained-bert) (4.7.1)\n",
      "Requirement already satisfied: sympy in /usr/local/lib/python3.10/dist-packages (from torch>=0.4.1->pytorch-pretrained-bert) (1.11.1)\n",
      "Requirement already satisfied: networkx in /usr/local/lib/python3.10/dist-packages (from torch>=0.4.1->pytorch-pretrained-bert) (3.1)\n",
      "Requirement already satisfied: jinja2 in /usr/local/lib/python3.10/dist-packages (from torch>=0.4.1->pytorch-pretrained-bert) (3.1.2)\n",
      "Requirement already satisfied: triton==2.0.0 in /usr/local/lib/python3.10/dist-packages (from torch>=0.4.1->pytorch-pretrained-bert) (2.0.0)\n",
      "Requirement already satisfied: cmake in /usr/local/lib/python3.10/dist-packages (from triton==2.0.0->torch>=0.4.1->pytorch-pretrained-bert) (3.25.2)\n",
      "Requirement already satisfied: lit in /usr/local/lib/python3.10/dist-packages (from triton==2.0.0->torch>=0.4.1->pytorch-pretrained-bert) (16.0.6)\n",
      "Requirement already satisfied: botocore<1.24.0,>=1.23.24 in /usr/local/lib/python3.10/dist-packages (from boto3->pytorch-pretrained-bert) (1.23.24)\n",
      "Requirement already satisfied: jmespath<1.0.0,>=0.7.1 in /usr/local/lib/python3.10/dist-packages (from boto3->pytorch-pretrained-bert) (0.10.0)\n",
      "Requirement already satisfied: s3transfer<0.6.0,>=0.5.0 in /usr/local/lib/python3.10/dist-packages (from boto3->pytorch-pretrained-bert) (0.5.2)\n",
      "Requirement already satisfied: urllib3<1.27,>=1.21.1 in /usr/local/lib/python3.10/dist-packages (from requests->pytorch-pretrained-bert) (1.26.16)\n",
      "Requirement already satisfied: certifi>=2017.4.17 in /usr/local/lib/python3.10/dist-packages (from requests->pytorch-pretrained-bert) (2023.7.22)\n",
      "Requirement already satisfied: charset-normalizer~=2.0.0 in /usr/local/lib/python3.10/dist-packages (from requests->pytorch-pretrained-bert) (2.0.12)\n",
      "Requirement already satisfied: idna<4,>=2.5 in /usr/local/lib/python3.10/dist-packages (from requests->pytorch-pretrained-bert) (3.4)\n",
      "Requirement already satisfied: python-dateutil<3.0.0,>=2.1 in /usr/local/lib/python3.10/dist-packages (from botocore<1.24.0,>=1.23.24->boto3->pytorch-pretrained-bert) (2.8.2)\n",
      "Requirement already satisfied: MarkupSafe>=2.0 in /usr/local/lib/python3.10/dist-packages (from jinja2->torch>=0.4.1->pytorch-pretrained-bert) (2.1.3)\n",
      "Requirement already satisfied: mpmath>=0.19 in /usr/local/lib/python3.10/dist-packages (from sympy->torch>=0.4.1->pytorch-pretrained-bert) (1.3.0)\n",
      "Requirement already satisfied: six>=1.5 in /usr/lib/python3/dist-packages (from python-dateutil<3.0.0,>=2.1->botocore<1.24.0,>=1.23.24->boto3->pytorch-pretrained-bert) (1.16.0)\n",
      "\n",
      "\u001b[1m[\u001b[0m\u001b[34;49mnotice\u001b[0m\u001b[1;39;49m]\u001b[0m\u001b[39;49m A new release of pip is available: \u001b[0m\u001b[31;49m23.0.1\u001b[0m\u001b[39;49m -> \u001b[0m\u001b[32;49m24.3.1\u001b[0m\n",
      "\u001b[1m[\u001b[0m\u001b[34;49mnotice\u001b[0m\u001b[1;39;49m]\u001b[0m\u001b[39;49m To update, run: \u001b[0m\u001b[32;49mpython3 -m pip install --upgrade pip\u001b[0m\n"
     ]
    },
    {
     "name": "stderr",
     "output_type": "stream",
     "text": [
      "2024-12-04 05:54:39.217504: I tensorflow/core/platform/cpu_feature_guard.cc:182] This TensorFlow binary is optimized to use available CPU instructions in performance-critical operations.\n",
      "To enable the following instructions: AVX2 FMA, in other operations, rebuild TensorFlow with the appropriate compiler flags.\n",
      "2024-12-04 05:54:44.024595: W tensorflow/compiler/tf2tensorrt/utils/py_utils.cc:38] TF-TRT Warning: Could not find TensorRT\n"
     ]
    }
   ],
   "source": [
    "%pip install pytorch-pretrained-bert pytorch-nlp\n",
    "\n",
    "import io\n",
    "\n",
    "import matplotlib.pyplot as plt\n",
    "import seaborn as sns\n",
    "import numpy as np\n",
    "import pandas as pd\n",
    "import torch\n",
    "from keras.utils import pad_sequences\n",
    "from pytorch_pretrained_bert import BertTokenizer, BertConfig\n",
    "from pytorch_pretrained_bert import BertAdam, BertForSequenceClassification\n",
    "from sklearn.model_selection import train_test_split\n",
    "from torch.utils.data import DataLoader, RandomSampler, SequentialSampler, TensorDataset\n",
    "from tqdm import tqdm, trange"
   ]
  },
  {
   "cell_type": "code",
   "execution_count": null,
   "id": "c4ace2b3-1396-4e0e-9299-5513b5b77e60",
   "metadata": {
    "tags": []
   },
   "outputs": [],
   "source": []
  },
  {
   "cell_type": "code",
   "execution_count": 3,
   "id": "de14ce96-040b-4add-a4d4-7d4081450ca2",
   "metadata": {
    "execution": {
     "iopub.execute_input": "2024-12-04T05:54:52.331029Z",
     "iopub.status.busy": "2024-12-04T05:54:52.328743Z",
     "iopub.status.idle": "2024-12-04T05:54:52.388310Z",
     "shell.execute_reply": "2024-12-04T05:54:52.387037Z",
     "shell.execute_reply.started": "2024-12-04T05:54:52.330965Z"
    },
    "tags": []
   },
   "outputs": [],
   "source": [
    "import torch\n",
    "from torch.utils.data import DataLoader\n",
    "\n",
    "class DLoader(DataLoader):\n",
    "    def __init__ (self, dataset, batch_size=64, max_batch_size=1024, shuffle=False, **kwargs):\n",
    "        super().__init__(dataset, batch_size=batch_size, shuffle=shuffle, **kwargs)\n",
    "        self.start_iter = iter(self)\n",
    "        self.current = 0\n",
    "        self.batch_hist = []\n",
    "\n",
    "        self.defaults = {\n",
    "            \"A\": 0.0,\n",
    "            \"B\": 0.0,\n",
    "            \"MaxB\": max_batch_size,\n",
    "            \"k\": 0,\n",
    "            \"b0\": batch_size,\n",
    "            \"prev_len\": 0,\n",
    "            \"next_len\": batch_size,\n",
    "            \"len\": batch_size,\n",
    "            \"beta\": 0,\n",
    "            \"x\": torch.Tensor([]),\n",
    "            \"grad\": torch.Tensor([]),\n",
    "            \"prev_x\": torch.Tensor([]),\n",
    "            \"prev_grad\": torch.Tensor([]),\n",
    "            \"prev_beta\": 0,\n",
    "        }\n",
    "\n",
    "    def step(self, params):\n",
    "        x = torch.Tensor([])\n",
    "        grad = torch.Tensor([])\n",
    "        flag = True\n",
    "        for p in params:\n",
    "            if flag:\n",
    "                flag = False\n",
    "                x = torch.flatten(p.data)\n",
    "                grad = torch.flatten(p.grad.data)\n",
    "            else:\n",
    "                x = torch.cat([x, torch.flatten(p.data)])\n",
    "\n",
    "                grad = torch.cat([grad, torch.flatten(p.grad.data)])\n",
    "\n",
    "        k = self.defaults[\"k\"]\n",
    "        if k == 0:\n",
    "            self.defaults[\"grad\"] = grad\n",
    "            self.defaults[\"x\"] = x\n",
    "            self.defaults['k'] += 1\n",
    "            self.defaults[\"next_len\"] = min(self.defaults[\"len\"] * 2, self.defaults[\"MaxB\"])\n",
    "            return\n",
    "\n",
    "        self.defaults[\"prev_grad\"] = self.defaults[\"grad\"]\n",
    "        self.defaults[\"prev_x\"] = self.defaults[\"x\"]\n",
    "        self.defaults[\"grad\"] = grad\n",
    "        self.defaults[\"x\"] = x\n",
    "        beta = torch.dot(\n",
    "            self.defaults[\"grad\"] - self.defaults[\"prev_grad\"],\n",
    "            self.defaults[\"x\"] - self.defaults[\"prev_x\"]\n",
    "        )\n",
    "        self.defaults[\"len_prev\"] = self.defaults[\"len\"]\n",
    "        self.defaults[\"len\"] = self.defaults[\"next_len\"]\n",
    "        self.defaults[\"next_len\"] = min(self.defaults[\"len\"] * 2, self.defaults[\"MaxB\"])\n",
    "        self.defaults['beta'] = beta\n",
    "\n",
    "        if k > 1:\n",
    "            beta_prev = self.defaults[\"beta\"]\n",
    "            len_prev = self.defaults[\"len_prev\"]\n",
    "            len_curr = self.defaults[\"len\"]\n",
    "\n",
    "            if len_prev != len_curr:\n",
    "                B = (beta_prev - beta) / (len_prev - len_curr)\n",
    "                A = len_curr - beta * B\n",
    "                self.defaults[\"A\"] = A\n",
    "                self.defaults[\"B\"] = B\n",
    "\n",
    "                next_len = max(1, min(self.defaults[\"MaxB\"], self.defaults[\"B\"] / (beta - A)))\n",
    "                self.defaults[\"next_len\"] = next_len\n",
    "\n",
    "        self.defaults['k'] += 1\n",
    "\n",
    "    def __iter__(self):\n",
    "        self.start_iter = iter(super().__iter__())\n",
    "        self.current = 0\n",
    "        return self\n",
    "\n",
    "    def __next__(self):\n",
    "        if self.current < len(self):\n",
    "            self.current += 1\n",
    "            \n",
    "\n",
    "            n = max(1, self.defaults[\"next_len\"] // self.defaults[\"b0\"])\n",
    "            n = min(n, self.defaults[\"MaxB\"] // self.defaults[\"b0\"])\n",
    "            self.batch_hist.append(self.defaults[\"b0\"] * n)\n",
    "            batches = []\n",
    "            try:\n",
    "                for _ in range(n):\n",
    "                    batches.append(next(self.start_iter))\n",
    "            except StopIteration:\n",
    "                pass\n",
    "\n",
    "            if len(batches) == 0:\n",
    "                raise StopIteration\n",
    "\n",
    "            first_batch = batches[0]\n",
    "            for additional_batch in batches[1:]:\n",
    "                for i, data in enumerate(additional_batch):\n",
    "                    first_batch[i] = torch.cat([first_batch[i], data])\n",
    "\n",
    "            return first_batch\n",
    "        else:\n",
    "            self.current = 0\n",
    "            raise StopIteration"
   ]
  },
  {
   "cell_type": "code",
   "execution_count": 4,
   "id": "e5c65d62-b422-4e56-a6cd-68e6caccfe2c",
   "metadata": {
    "execution": {
     "iopub.execute_input": "2024-12-04T05:54:52.390753Z",
     "iopub.status.busy": "2024-12-04T05:54:52.389674Z",
     "iopub.status.idle": "2024-12-04T05:54:54.555734Z",
     "shell.execute_reply": "2024-12-04T05:54:54.554524Z",
     "shell.execute_reply.started": "2024-12-04T05:54:52.390702Z"
    },
    "tags": []
   },
   "outputs": [
    {
     "data": {
      "text/html": [
       "<div>\n",
       "<style scoped>\n",
       "    .dataframe tbody tr th:only-of-type {\n",
       "        vertical-align: middle;\n",
       "    }\n",
       "\n",
       "    .dataframe tbody tr th {\n",
       "        vertical-align: top;\n",
       "    }\n",
       "\n",
       "    .dataframe thead th {\n",
       "        text-align: right;\n",
       "    }\n",
       "</style>\n",
       "<table border=\"1\" class=\"dataframe\">\n",
       "  <thead>\n",
       "    <tr style=\"text-align: right;\">\n",
       "      <th></th>\n",
       "      <th>sentence_source</th>\n",
       "      <th>label</th>\n",
       "      <th>label_notes</th>\n",
       "      <th>sentence</th>\n",
       "    </tr>\n",
       "  </thead>\n",
       "  <tbody>\n",
       "    <tr>\n",
       "      <th>0</th>\n",
       "      <td>gj04</td>\n",
       "      <td>1</td>\n",
       "      <td>NaN</td>\n",
       "      <td>Our friends won't buy this analysis, let alone...</td>\n",
       "    </tr>\n",
       "    <tr>\n",
       "      <th>1</th>\n",
       "      <td>gj04</td>\n",
       "      <td>1</td>\n",
       "      <td>NaN</td>\n",
       "      <td>One more pseudo generalization and I'm giving up.</td>\n",
       "    </tr>\n",
       "    <tr>\n",
       "      <th>2</th>\n",
       "      <td>gj04</td>\n",
       "      <td>1</td>\n",
       "      <td>NaN</td>\n",
       "      <td>One more pseudo generalization or I'm giving up.</td>\n",
       "    </tr>\n",
       "    <tr>\n",
       "      <th>3</th>\n",
       "      <td>gj04</td>\n",
       "      <td>1</td>\n",
       "      <td>NaN</td>\n",
       "      <td>The more we study verbs, the crazier they get.</td>\n",
       "    </tr>\n",
       "    <tr>\n",
       "      <th>4</th>\n",
       "      <td>gj04</td>\n",
       "      <td>1</td>\n",
       "      <td>NaN</td>\n",
       "      <td>Day by day the facts are getting murkier.</td>\n",
       "    </tr>\n",
       "    <tr>\n",
       "      <th>...</th>\n",
       "      <td>...</td>\n",
       "      <td>...</td>\n",
       "      <td>...</td>\n",
       "      <td>...</td>\n",
       "    </tr>\n",
       "    <tr>\n",
       "      <th>8546</th>\n",
       "      <td>ad03</td>\n",
       "      <td>0</td>\n",
       "      <td>*</td>\n",
       "      <td>Poseidon appears to own a dragon</td>\n",
       "    </tr>\n",
       "    <tr>\n",
       "      <th>8547</th>\n",
       "      <td>ad03</td>\n",
       "      <td>0</td>\n",
       "      <td>*</td>\n",
       "      <td>Digitize is my happiest memory</td>\n",
       "    </tr>\n",
       "    <tr>\n",
       "      <th>8548</th>\n",
       "      <td>ad03</td>\n",
       "      <td>1</td>\n",
       "      <td>NaN</td>\n",
       "      <td>It is easy to slay the Gorgon.</td>\n",
       "    </tr>\n",
       "    <tr>\n",
       "      <th>8549</th>\n",
       "      <td>ad03</td>\n",
       "      <td>1</td>\n",
       "      <td>NaN</td>\n",
       "      <td>I had the strangest feeling that I knew you.</td>\n",
       "    </tr>\n",
       "    <tr>\n",
       "      <th>8550</th>\n",
       "      <td>ad03</td>\n",
       "      <td>1</td>\n",
       "      <td>NaN</td>\n",
       "      <td>What all did you get for Christmas?</td>\n",
       "    </tr>\n",
       "  </tbody>\n",
       "</table>\n",
       "<p>8551 rows × 4 columns</p>\n",
       "</div>"
      ],
      "text/plain": [
       "     sentence_source  ...                                           sentence\n",
       "0               gj04  ...  Our friends won't buy this analysis, let alone...\n",
       "1               gj04  ...  One more pseudo generalization and I'm giving up.\n",
       "2               gj04  ...   One more pseudo generalization or I'm giving up.\n",
       "3               gj04  ...     The more we study verbs, the crazier they get.\n",
       "4               gj04  ...          Day by day the facts are getting murkier.\n",
       "...              ...  ...                                                ...\n",
       "8546            ad03  ...                   Poseidon appears to own a dragon\n",
       "8547            ad03  ...                     Digitize is my happiest memory\n",
       "8548            ad03  ...                     It is easy to slay the Gorgon.\n",
       "8549            ad03  ...       I had the strangest feeling that I knew you.\n",
       "8550            ad03  ...                What all did you get for Christmas?\n",
       "\n",
       "[8551 rows x 4 columns]"
      ]
     },
     "execution_count": 4,
     "metadata": {},
     "output_type": "execute_result"
    }
   ],
   "source": [
    "def flat_accuracy(preds, labels):\n",
    "    pred_flat = np.argmax(preds, axis=1).flatten()\n",
    "    labels_flat = labels.flatten()\n",
    "    return np.sum(pred_flat == labels_flat) / len(labels_flat)\n",
    "\n",
    "\n",
    "device = torch.device(\"cuda\" if torch.cuda.is_available() else \"cpu\")\n",
    "n_gpu = torch.cuda.device_count()\n",
    "torch.cuda.get_device_name(0)\n",
    "\n",
    "df = pd.read_csv(\n",
    "    \"in_domain_train.tsv\",\n",
    "    delimiter=\"\\t\",\n",
    "    header=None,\n",
    "    names=[\"sentence_source\", \"label\", \"label_notes\", \"sentence\"],\n",
    ")\n",
    "sentences = df.sentence.values\n",
    "sentences = [\"[CLS] \" + sentence + \" [SEP]\" for sentence in sentences]\n",
    "labels = df.label.values\n",
    "tokenizer = BertTokenizer.from_pretrained(\"bert-base-uncased\", do_lower_case=True)\n",
    "\n",
    "tokenized_texts = [tokenizer.tokenize(sent) for sent in sentences]\n",
    "MAX_LEN = 128\n",
    "input_ids = [tokenizer.convert_tokens_to_ids(x) for x in tokenized_texts]\n",
    "input_ids = pad_sequences(\n",
    "    input_ids, maxlen=MAX_LEN, dtype=\"long\", truncating=\"post\", padding=\"post\"\n",
    ")\n",
    "\n",
    "train_inputs, validation_inputs, train_labels, validation_labels = train_test_split(\n",
    "    input_ids, labels, random_state=42, test_size=0.1\n",
    ")\n",
    "train_inputs = torch.tensor(train_inputs)\n",
    "validation_inputs = torch.tensor(validation_inputs)\n",
    "train_labels = torch.tensor(train_labels)\n",
    "validation_labels = torch.tensor(validation_labels)\n",
    "batch_size = 32\n",
    "train_data = TensorDataset(train_inputs, train_labels)\n",
    "train_sampler = RandomSampler(train_data)\n",
    "df"
   ]
  },
  {
   "cell_type": "code",
   "execution_count": 5,
   "id": "700a4044-13c7-4d2b-9ece-88257ce75cc3",
   "metadata": {
    "execution": {
     "iopub.execute_input": "2024-12-04T05:54:54.560057Z",
     "iopub.status.busy": "2024-12-04T05:54:54.559212Z",
     "iopub.status.idle": "2024-12-04T05:54:54.589738Z",
     "shell.execute_reply": "2024-12-04T05:54:54.588458Z",
     "shell.execute_reply.started": "2024-12-04T05:54:54.560008Z"
    },
    "tags": []
   },
   "outputs": [],
   "source": [
    "all_losses_classicADAM = []\n",
    "all_losses_adaptiveADAM = []\n",
    "all_losses_classicSGD = []\n",
    "all_losses_adaptiveSGD = []\n",
    "all_bathes = []"
   ]
  },
  {
   "cell_type": "code",
   "execution_count": 6,
   "id": "505785b4-16a1-4c20-aa0e-f7807d1b70c4",
   "metadata": {
    "execution": {
     "iopub.execute_input": "2024-12-04T05:54:54.591841Z",
     "iopub.status.busy": "2024-12-04T05:54:54.590880Z",
     "iopub.status.idle": "2024-12-04T05:54:54.609948Z",
     "shell.execute_reply": "2024-12-04T05:54:54.608823Z",
     "shell.execute_reply.started": "2024-12-04T05:54:54.591786Z"
    },
    "tags": []
   },
   "outputs": [],
   "source": [
    "#for optimizer, params in ((torch.optim.SGD, {\"lr\":1e-3}), torch.optim.Adam):\n",
    " #   for dataloader_class in (DataLoader, DLoader):\n",
    "  #      opt = optimizer([x for x in model.parameters()], **params)"
   ]
  },
  {
   "cell_type": "code",
   "execution_count": 7,
   "id": "a1d77e82-b6d3-4f1d-8e6c-c33c4745f83a",
   "metadata": {
    "execution": {
     "iopub.execute_input": "2024-12-04T05:54:54.612689Z",
     "iopub.status.busy": "2024-12-04T05:54:54.611290Z",
     "iopub.status.idle": "2024-12-04T06:05:26.291368Z",
     "shell.execute_reply": "2024-12-04T06:05:26.290170Z",
     "shell.execute_reply.started": "2024-12-04T05:54:54.612616Z"
    },
    "tags": []
   },
   "outputs": [
    {
     "name": "stderr",
     "output_type": "stream",
     "text": [
      "Epoch:   0%|          | 0/2 [00:00<?, ?it/s]"
     ]
    },
    {
     "name": "stdout",
     "output_type": "stream",
     "text": [
      "Train loss: 0.6168823629116812\n"
     ]
    },
    {
     "name": "stderr",
     "output_type": "stream",
     "text": [
      "Epoch:  50%|█████     | 1/2 [02:29<02:29, 149.68s/it]"
     ]
    },
    {
     "name": "stdout",
     "output_type": "stream",
     "text": [
      "Validation Accuracy: 0.7133487654320988\n",
      "Train loss: 0.6136519253501259\n"
     ]
    },
    {
     "name": "stderr",
     "output_type": "stream",
     "text": [
      "Epoch: 100%|██████████| 2/2 [04:58<00:00, 149.15s/it]"
     ]
    },
    {
     "name": "stdout",
     "output_type": "stream",
     "text": [
      "Validation Accuracy: 0.711033950617284\n"
     ]
    },
    {
     "name": "stderr",
     "output_type": "stream",
     "text": [
      "\n",
      "Epoch:   0%|          | 0/2 [00:00<?, ?it/s]"
     ]
    },
    {
     "name": "stdout",
     "output_type": "stream",
     "text": [
      "Train loss: 0.623198847184662\n"
     ]
    },
    {
     "name": "stderr",
     "output_type": "stream",
     "text": [
      "Epoch:  50%|█████     | 1/2 [02:27<02:27, 147.50s/it]"
     ]
    },
    {
     "name": "stdout",
     "output_type": "stream",
     "text": [
      "Validation Accuracy: 0.7129629629629629\n",
      "Train loss: 0.6198019930683231\n"
     ]
    },
    {
     "name": "stderr",
     "output_type": "stream",
     "text": [
      "Epoch: 100%|██████████| 2/2 [04:56<00:00, 148.07s/it]"
     ]
    },
    {
     "name": "stdout",
     "output_type": "stream",
     "text": [
      "Validation Accuracy: 0.711033950617284\n"
     ]
    },
    {
     "name": "stderr",
     "output_type": "stream",
     "text": [
      "\n"
     ]
    }
   ],
   "source": [
    "for tests in range(0, 2):\n",
    "    model = BertForSequenceClassification.from_pretrained(\"bert-base-uncased\", num_labels=2)\n",
    "    model.cuda()\n",
    "    param_optimizer = list(model.named_parameters())\n",
    "    no_decay = [\"bias\", \"gamma\", \"beta\"]\n",
    "    optimizer_grouped_parameters = [\n",
    "        {\n",
    "            \"params\": [\n",
    "                p for n, p in param_optimizer if not any(nd in n for nd in no_decay)\n",
    "            ],\n",
    "            \"weight_decay_rate\": 0.01,\n",
    "        },\n",
    "        {\n",
    "            \"params\": [p for n, p in param_optimizer if any(nd in n for nd in no_decay)],\n",
    "            \"weight_decay_rate\": 0.0,\n",
    "        },\n",
    "    ]\n",
    "\n",
    "    optimizer =torch.optim.Adam(model.parameters(), lr=3e-4)\n",
    "    validation_data = TensorDataset(validation_inputs, validation_labels)\n",
    "    validation_sampler = SequentialSampler(validation_data)\n",
    "\n",
    "    train_dataloader = DLoader(train_data, batch_size=batch_size, max_batch_size=96)\n",
    "\n",
    "    validation_dataloader = DataLoader(validation_data, batch_size=batch_size, shuffle=True)\n",
    "    train_loss_set = []\n",
    "\n",
    "    epochs = 2\n",
    "\n",
    "    for _ in trange(epochs, desc=\"Epoch\"):\n",
    "        model.train()\n",
    "        tr_loss = 0\n",
    "        nb_tr_examples, nb_tr_steps = 0, 0\n",
    "        for batch in train_dataloader:\n",
    "            batch = tuple(t.to(device) for t in batch)\n",
    "            b_input_ids, b_labels = batch\n",
    "            optimizer.zero_grad()\n",
    "            loss = model(b_input_ids, token_type_ids=None, labels=b_labels)\n",
    "            for i in range(0, int(len(b_input_ids) / batch_size)):\n",
    "                train_loss_set.append(loss.item())\n",
    "            loss.backward()\n",
    "            train_dataloader.step(model.parameters())\n",
    "            optimizer.step()\n",
    "            # Update tracking variables\n",
    "            tr_loss += loss.item()\n",
    "            nb_tr_examples += b_input_ids.size(0)\n",
    "            nb_tr_steps += 1\n",
    "        print(\"Train loss: {}\".format(tr_loss / nb_tr_steps))\n",
    "\n",
    "        # Validation\n",
    "\n",
    "        # Put model in evaluation mode to evaluate loss on the validation set\n",
    "        model.eval()\n",
    "\n",
    "        # Tracking variables\n",
    "        eval_loss, eval_accuracy = 0, 0\n",
    "        nb_eval_steps, nb_eval_examples = 0, 0\n",
    "\n",
    "        # Evaluate data for one epoch\n",
    "        for batch in validation_dataloader:  # Add batch to GPU\n",
    "            batch = tuple(t.to(device) for t in batch)\n",
    "            # Unpack the inputs from our dataloader\n",
    "            b_input_ids, b_labels = batch\n",
    "            # Telling the model not to compute or store gradients, saving memory and speeding up validation\n",
    "            with torch.no_grad():\n",
    "                # Forward pass, calculate logit predictions\n",
    "                logits = model(b_input_ids, token_type_ids=None)\n",
    "\n",
    "            # Move logits and labels to CPU\n",
    "            logits = logits.detach().cpu().numpy()\n",
    "            label_ids = b_labels.to(\"cpu\").numpy()\n",
    "\n",
    "            tmp_eval_accuracy = flat_accuracy(logits, label_ids)\n",
    "            #print(tmp_eval_accuracy)\n",
    "\n",
    "            eval_accuracy += tmp_eval_accuracy\n",
    "            nb_eval_steps += 1\n",
    "\n",
    "        print(\"Validation Accuracy: {}\".format(eval_accuracy / nb_eval_steps))\n",
    "    all_losses_adaptiveADAM.append(train_loss_set)\n",
    "    all_bathes.append(train_dataloader.batch_hist)"
   ]
  },
  {
   "cell_type": "code",
   "execution_count": null,
   "id": "09e59fd3-c042-4faa-a34e-9c252f97f3aa",
   "metadata": {
    "tags": []
   },
   "outputs": [],
   "source": []
  },
  {
   "cell_type": "code",
   "execution_count": 8,
   "id": "1fef9949-a08d-4cf0-8bec-e4a31d5f7d6c",
   "metadata": {
    "execution": {
     "iopub.execute_input": "2024-12-04T06:05:26.294117Z",
     "iopub.status.busy": "2024-12-04T06:05:26.292640Z",
     "iopub.status.idle": "2024-12-04T06:05:26.307349Z",
     "shell.execute_reply": "2024-12-04T06:05:26.306253Z",
     "shell.execute_reply.started": "2024-12-04T06:05:26.294082Z"
    },
    "tags": []
   },
   "outputs": [],
   "source": [
    "all_losses_classicADAM = []"
   ]
  },
  {
   "cell_type": "code",
   "execution_count": 9,
   "id": "bb1ae9c7-689f-476f-8fe4-a90b64cffcd3",
   "metadata": {
    "execution": {
     "iopub.execute_input": "2024-12-04T06:05:26.309508Z",
     "iopub.status.busy": "2024-12-04T06:05:26.308581Z",
     "iopub.status.idle": "2024-12-04T06:10:05.190828Z",
     "shell.execute_reply": "2024-12-04T06:10:05.189548Z",
     "shell.execute_reply.started": "2024-12-04T06:05:26.309448Z"
    },
    "tags": []
   },
   "outputs": [
    {
     "name": "stderr",
     "output_type": "stream",
     "text": [
      "Epoch:   0%|          | 0/2 [00:00<?, ?it/s]"
     ]
    },
    {
     "name": "stdout",
     "output_type": "stream",
     "text": [
      "Train loss: 0.6178651601694432\n"
     ]
    },
    {
     "name": "stderr",
     "output_type": "stream",
     "text": [
      "Epoch:  50%|█████     | 1/2 [01:05<01:05, 65.89s/it]"
     ]
    },
    {
     "name": "stdout",
     "output_type": "stream",
     "text": [
      "Validation Accuracy: 0.7125771604938271\n",
      "Train loss: 0.6141020967257963\n"
     ]
    },
    {
     "name": "stderr",
     "output_type": "stream",
     "text": [
      "Epoch: 100%|██████████| 2/2 [02:11<00:00, 65.89s/it]"
     ]
    },
    {
     "name": "stdout",
     "output_type": "stream",
     "text": [
      "Validation Accuracy: 0.7106481481481481\n"
     ]
    },
    {
     "name": "stderr",
     "output_type": "stream",
     "text": [
      "\n",
      "Epoch:   0%|          | 0/2 [00:00<?, ?it/s]"
     ]
    },
    {
     "name": "stdout",
     "output_type": "stream",
     "text": [
      "Train loss: 0.6208775619748222\n"
     ]
    },
    {
     "name": "stderr",
     "output_type": "stream",
     "text": [
      "Epoch:  50%|█████     | 1/2 [01:05<01:05, 65.84s/it]"
     ]
    },
    {
     "name": "stdout",
     "output_type": "stream",
     "text": [
      "Validation Accuracy: 0.711033950617284\n",
      "Train loss: 0.6220712169572031\n"
     ]
    },
    {
     "name": "stderr",
     "output_type": "stream",
     "text": [
      "Epoch: 100%|██████████| 2/2 [02:11<00:00, 65.87s/it]"
     ]
    },
    {
     "name": "stdout",
     "output_type": "stream",
     "text": [
      "Validation Accuracy: 0.711033950617284\n"
     ]
    },
    {
     "name": "stderr",
     "output_type": "stream",
     "text": [
      "\n"
     ]
    }
   ],
   "source": [
    "for tests in range(0, 2):\n",
    "    torch.cuda.empty_cache() \n",
    "    model = BertForSequenceClassification.from_pretrained(\"bert-base-uncased\", num_labels=2)\n",
    "    model.cuda()\n",
    "    param_optimizer = list(model.named_parameters())\n",
    "    no_decay = [\"bias\", \"gamma\", \"beta\"]\n",
    "    optimizer_grouped_parameters = [\n",
    "        {\n",
    "            \"params\": [\n",
    "                p for n, p in param_optimizer if not any(nd in n for nd in no_decay)\n",
    "            ],\n",
    "            \"weight_decay_rate\": 0.01,\n",
    "        },\n",
    "        {\n",
    "            \"params\": [p for n, p in param_optimizer if any(nd in n for nd in no_decay)],\n",
    "            \"weight_decay_rate\": 0.0,\n",
    "        },\n",
    "    ]\n",
    "\n",
    "    optimizer =torch.optim.Adam(model.parameters(), lr=3e-4)\n",
    "    validation_data = TensorDataset(validation_inputs, validation_labels)\n",
    "    validation_sampler = SequentialSampler(validation_data)\n",
    "\n",
    "    train_dataloader = DataLoader(train_data, batch_size=batch_size)\n",
    "\n",
    "    validation_dataloader = DataLoader(validation_data, batch_size=batch_size, shuffle = True)\n",
    "    train_loss_set = []\n",
    "\n",
    "    epochs = 2\n",
    "\n",
    "    for _ in trange(epochs, desc=\"Epoch\"):\n",
    "        model.train()\n",
    "        tr_loss = 0\n",
    "        nb_tr_examples, nb_tr_steps = 0, 0\n",
    "\n",
    "        for batch in train_dataloader:\n",
    "            batch = tuple(t.to(device) for t in batch)\n",
    "            b_input_ids, b_labels = batch\n",
    "            optimizer.zero_grad()\n",
    "            loss = model(b_input_ids, token_type_ids=None, labels=b_labels)\n",
    "            train_loss_set.append(loss.item())\n",
    "            loss.backward()\n",
    "            # train_dataloader.step(model.parameters())\n",
    "            optimizer.step()\n",
    "\n",
    "            # Update tracking variables\n",
    "            tr_loss += loss.item()\n",
    "            nb_tr_examples += b_input_ids.size(0)\n",
    "            nb_tr_steps += 1\n",
    "\n",
    "        print(\"Train loss: {}\".format(tr_loss / nb_tr_steps))\n",
    "\n",
    "        # Validation\n",
    "\n",
    "        # Put model in evaluation mode to evaluate loss on the validation set\n",
    "        model.eval()\n",
    "\n",
    "        # Tracking variables\n",
    "        eval_loss, eval_accuracy = 0, 0\n",
    "        nb_eval_steps, nb_eval_examples = 0, 0\n",
    "\n",
    "        # Evaluate data for one epoch\n",
    "        for batch in validation_dataloader:  # Add batch to GPU\n",
    "            batch = tuple(t.to(device) for t in batch)\n",
    "            # Unpack the inputs from our dataloader\n",
    "            b_input_ids, b_labels = batch\n",
    "            # Telling the model not to compute or store gradients, saving memory and speeding up validation\n",
    "            with torch.no_grad():\n",
    "                # Forward pass, calculate logit predictions\n",
    "                logits = model(b_input_ids, token_type_ids=None)\n",
    "\n",
    "        # Move logits and labels to CPU\n",
    "            logits = logits.detach().cpu().numpy()\n",
    "            label_ids = b_labels.to(\"cpu\").numpy()\n",
    "\n",
    "            tmp_eval_accuracy = flat_accuracy(logits, label_ids)\n",
    "\n",
    "            eval_accuracy += tmp_eval_accuracy\n",
    "            nb_eval_steps += 1\n",
    "\n",
    "        print(\"Validation Accuracy: {}\".format(eval_accuracy / nb_eval_steps))\n",
    "    all_losses_classicADAM.append(train_loss_set)"
   ]
  },
  {
   "cell_type": "code",
   "execution_count": null,
   "id": "5c27f5ae-5c98-44c2-bda2-639ec7aee0b0",
   "metadata": {
    "tags": []
   },
   "outputs": [],
   "source": []
  },
  {
   "cell_type": "code",
   "execution_count": 10,
   "id": "75092e54-355c-4df1-a7d3-3d63f71558d4",
   "metadata": {
    "execution": {
     "iopub.execute_input": "2024-12-04T06:10:05.193363Z",
     "iopub.status.busy": "2024-12-04T06:10:05.192147Z",
     "iopub.status.idle": "2024-12-04T06:10:05.207790Z",
     "shell.execute_reply": "2024-12-04T06:10:05.206768Z",
     "shell.execute_reply.started": "2024-12-04T06:10:05.193308Z"
    }
   },
   "outputs": [],
   "source": [
    "all_losses_adaptiveSGD = []"
   ]
  },
  {
   "cell_type": "code",
   "execution_count": 11,
   "id": "6ddc0cc9-db8c-445c-9bd2-7bc5916f3ba4",
   "metadata": {
    "execution": {
     "iopub.execute_input": "2024-12-04T06:10:05.212700Z",
     "iopub.status.busy": "2024-12-04T06:10:05.211468Z",
     "iopub.status.idle": "2024-12-04T06:20:02.373076Z",
     "shell.execute_reply": "2024-12-04T06:20:02.371764Z",
     "shell.execute_reply.started": "2024-12-04T06:10:05.212649Z"
    },
    "tags": []
   },
   "outputs": [
    {
     "name": "stderr",
     "output_type": "stream",
     "text": [
      "Epoch:   0%|          | 0/2 [00:00<?, ?it/s]"
     ]
    },
    {
     "name": "stdout",
     "output_type": "stream",
     "text": [
      "Train loss: 0.6173077747540132\n"
     ]
    },
    {
     "name": "stderr",
     "output_type": "stream",
     "text": [
      "Epoch:  50%|█████     | 1/2 [02:25<02:25, 145.67s/it]"
     ]
    },
    {
     "name": "stdout",
     "output_type": "stream",
     "text": [
      "Validation Accuracy: 0.7125771604938271\n",
      "Train loss: 0.611717288548521\n"
     ]
    },
    {
     "name": "stderr",
     "output_type": "stream",
     "text": [
      "Epoch: 100%|██████████| 2/2 [04:51<00:00, 145.75s/it]"
     ]
    },
    {
     "name": "stdout",
     "output_type": "stream",
     "text": [
      "Validation Accuracy: 0.7125771604938271\n"
     ]
    },
    {
     "name": "stderr",
     "output_type": "stream",
     "text": [
      "\n",
      "Epoch:   0%|          | 0/2 [00:00<?, ?it/s]"
     ]
    },
    {
     "name": "stdout",
     "output_type": "stream",
     "text": [
      "Train loss: 0.6100094758508577\n"
     ]
    },
    {
     "name": "stderr",
     "output_type": "stream",
     "text": [
      "Epoch:  50%|█████     | 1/2 [02:24<02:24, 144.47s/it]"
     ]
    },
    {
     "name": "stdout",
     "output_type": "stream",
     "text": [
      "Validation Accuracy: 0.7125771604938271\n",
      "Train loss: 0.6060354770219177\n"
     ]
    },
    {
     "name": "stderr",
     "output_type": "stream",
     "text": [
      "Epoch: 100%|██████████| 2/2 [04:50<00:00, 145.20s/it]"
     ]
    },
    {
     "name": "stdout",
     "output_type": "stream",
     "text": [
      "Validation Accuracy: 0.7125771604938271\n"
     ]
    },
    {
     "name": "stderr",
     "output_type": "stream",
     "text": [
      "\n"
     ]
    }
   ],
   "source": [
    "for tests in range(0, 2):\n",
    "    torch.cuda.empty_cache() \n",
    "    model = BertForSequenceClassification.from_pretrained(\"bert-base-uncased\", num_labels=2)\n",
    "    model.cuda()\n",
    "    param_optimizer = list(model.named_parameters())\n",
    "    no_decay = [\"bias\", \"gamma\", \"beta\"]\n",
    "    optimizer_grouped_parameters = [\n",
    "        {\n",
    "            \"params\": [\n",
    "                p for n, p in param_optimizer if not any(nd in n for nd in no_decay)\n",
    "            ],\n",
    "            \"weight_decay_rate\": 0.01,\n",
    "        },\n",
    "        {\n",
    "            \"params\": [p for n, p in param_optimizer if any(nd in n for nd in no_decay)],\n",
    "            \"weight_decay_rate\": 0.0,\n",
    "        },\n",
    "    ]\n",
    "\n",
    "    optimizer =torch.optim.SGD(model.parameters(), lr=1e-3)\n",
    "    validation_data = TensorDataset(validation_inputs, validation_labels)\n",
    "    validation_sampler = SequentialSampler(validation_data)\n",
    "\n",
    "    train_dataloader = DLoader(train_data, batch_size=batch_size, max_batch_size=1024)\n",
    "\n",
    "    validation_dataloader = DataLoader(validation_data, batch_size=batch_size)\n",
    "    train_loss_set = []\n",
    "\n",
    "    epochs = 2\n",
    "\n",
    "    for _ in trange(epochs, desc=\"Epoch\"):\n",
    "        model.train()\n",
    "        tr_loss = 0\n",
    "        nb_tr_examples, nb_tr_steps = 0, 0\n",
    "        for batch in train_dataloader:\n",
    "            batch = tuple(t.to(device) for t in batch)\n",
    "            b_input_ids, b_labels = batch\n",
    "            optimizer.zero_grad()\n",
    "            loss = model(b_input_ids, token_type_ids=None, labels=b_labels)\n",
    "            for i in range(0, int(len(b_input_ids) / batch_size)):\n",
    "                train_loss_set.append(loss.item())\n",
    "            loss.backward()\n",
    "            train_dataloader.step(model.parameters())\n",
    "            optimizer.step()\n",
    "            # Update tracking variables\n",
    "            tr_loss += loss.item()\n",
    "            nb_tr_examples += b_input_ids.size(0)\n",
    "            nb_tr_steps += 1\n",
    "        all_bathes.append(train_dataloader.batch_hist)\n",
    "        print(\"Train loss: {}\".format(tr_loss / nb_tr_steps))\n",
    "\n",
    "        # Validation\n",
    "\n",
    "        # Put model in evaluation mode to evaluate loss on the validation set\n",
    "        model.eval()\n",
    "\n",
    "        # Tracking variables\n",
    "        eval_loss, eval_accuracy = 0, 0\n",
    "        nb_eval_steps, nb_eval_examples = 0, 0\n",
    "\n",
    "        # Evaluate data for one epoch\n",
    "        for batch in validation_dataloader:  # Add batch to GPU\n",
    "            batch = tuple(t.to(device) for t in batch)\n",
    "            # Unpack the inputs from our dataloader\n",
    "            b_input_ids, b_labels = batch\n",
    "            # Telling the model not to compute or store gradients, saving memory and speeding up validation\n",
    "            with torch.no_grad():\n",
    "                # Forward pass, calculate logit predictions\n",
    "                logits = model(b_input_ids, token_type_ids=None)\n",
    "\n",
    "        # Move logits and labels to CPU\n",
    "            logits = logits.detach().cpu().numpy()\n",
    "            label_ids = b_labels.to(\"cpu\").numpy()\n",
    "\n",
    "            tmp_eval_accuracy = flat_accuracy(logits, label_ids)\n",
    "\n",
    "            eval_accuracy += tmp_eval_accuracy\n",
    "            nb_eval_steps += 1\n",
    "\n",
    "        print(\"Validation Accuracy: {}\".format(eval_accuracy / nb_eval_steps))\n",
    "    all_bathes.append(train_dataloader.batch_hist)\n",
    "    all_losses_adaptiveSGD.append(train_loss_set)"
   ]
  },
  {
   "cell_type": "code",
   "execution_count": null,
   "id": "861d22fc-4b39-45da-8597-0bffba95bab3",
   "metadata": {
    "tags": []
   },
   "outputs": [],
   "source": []
  },
  {
   "cell_type": "code",
   "execution_count": 12,
   "id": "654aae33-9803-4cc9-9641-d68d0b1f12f5",
   "metadata": {
    "execution": {
     "iopub.execute_input": "2024-12-04T06:20:02.376064Z",
     "iopub.status.busy": "2024-12-04T06:20:02.374572Z",
     "iopub.status.idle": "2024-12-04T06:24:30.662132Z",
     "shell.execute_reply": "2024-12-04T06:24:30.660913Z",
     "shell.execute_reply.started": "2024-12-04T06:20:02.375979Z"
    },
    "tags": []
   },
   "outputs": [
    {
     "name": "stderr",
     "output_type": "stream",
     "text": [
      "Epoch:   0%|          | 0/2 [00:00<?, ?it/s]"
     ]
    },
    {
     "name": "stdout",
     "output_type": "stream",
     "text": [
      "Train loss: 0.6133853947720587\n"
     ]
    },
    {
     "name": "stderr",
     "output_type": "stream",
     "text": [
      "Epoch:  50%|█████     | 1/2 [01:03<01:03, 63.23s/it]"
     ]
    },
    {
     "name": "stdout",
     "output_type": "stream",
     "text": [
      "Validation Accuracy: 0.7125771604938271\n",
      "Train loss: 0.6041309291891043\n"
     ]
    },
    {
     "name": "stderr",
     "output_type": "stream",
     "text": [
      "Epoch: 100%|██████████| 2/2 [02:06<00:00, 63.25s/it]"
     ]
    },
    {
     "name": "stdout",
     "output_type": "stream",
     "text": [
      "Validation Accuracy: 0.7075617283950618\n"
     ]
    },
    {
     "name": "stderr",
     "output_type": "stream",
     "text": [
      "\n",
      "Epoch:   0%|          | 0/2 [00:00<?, ?it/s]"
     ]
    },
    {
     "name": "stdout",
     "output_type": "stream",
     "text": [
      "Train loss: 0.6115798784489453\n"
     ]
    },
    {
     "name": "stderr",
     "output_type": "stream",
     "text": [
      "Epoch:  50%|█████     | 1/2 [01:03<01:03, 63.22s/it]"
     ]
    },
    {
     "name": "stdout",
     "output_type": "stream",
     "text": [
      "Validation Accuracy: 0.7125771604938271\n",
      "Train loss: 0.6097042914248106\n"
     ]
    },
    {
     "name": "stderr",
     "output_type": "stream",
     "text": [
      "Epoch: 100%|██████████| 2/2 [02:06<00:00, 63.21s/it]"
     ]
    },
    {
     "name": "stdout",
     "output_type": "stream",
     "text": [
      "Validation Accuracy: 0.7125771604938271\n"
     ]
    },
    {
     "name": "stderr",
     "output_type": "stream",
     "text": [
      "\n"
     ]
    }
   ],
   "source": [
    "for tests in range(0, 2):\n",
    "    torch.cuda.empty_cache() \n",
    "    model = BertForSequenceClassification.from_pretrained(\"bert-base-uncased\", num_labels=2)\n",
    "    model.cuda()\n",
    "    param_optimizer = list(model.named_parameters())\n",
    "    no_decay = [\"bias\", \"gamma\", \"beta\"]\n",
    "    optimizer_grouped_parameters = [\n",
    "        {\n",
    "            \"params\": [\n",
    "                p for n, p in param_optimizer if not any(nd in n for nd in no_decay)\n",
    "            ],\n",
    "            \"weight_decay_rate\": 0.01,\n",
    "        },\n",
    "        {\n",
    "            \"params\": [p for n, p in param_optimizer if any(nd in n for nd in no_decay)],\n",
    "            \"weight_decay_rate\": 0.0,\n",
    "        },\n",
    "    ]\n",
    "\n",
    "    optimizer =torch.optim.SGD(model.parameters(), lr=1e-3)\n",
    "    validation_data = TensorDataset(validation_inputs, validation_labels)\n",
    "    validation_sampler = SequentialSampler(validation_data)\n",
    "\n",
    "    train_dataloader = DataLoader(train_data, batch_size=batch_size)\n",
    "\n",
    "    validation_dataloader = DataLoader(validation_data, batch_size=batch_size)\n",
    "    train_loss_set = []\n",
    "\n",
    "    epochs = 2\n",
    "\n",
    "    for _ in trange(epochs, desc=\"Epoch\"):\n",
    "        model.train()\n",
    "        tr_loss = 0\n",
    "        nb_tr_examples, nb_tr_steps = 0, 0\n",
    "\n",
    "        for batch in train_dataloader:\n",
    "            batch = tuple(t.to(device) for t in batch)\n",
    "            b_input_ids, b_labels = batch\n",
    "            optimizer.zero_grad()\n",
    "            loss = model(b_input_ids, token_type_ids=None, labels=b_labels)\n",
    "            train_loss_set.append(loss.item())\n",
    "            loss.backward()\n",
    "            # train_dataloader.step(model.parameters())\n",
    "            optimizer.step()\n",
    "            batch = tuple(t.to(\"cpu\") for t in batch)\n",
    "            # Update tracking variables\n",
    "            tr_loss += loss.item()\n",
    "            nb_tr_examples += b_input_ids.size(0)\n",
    "            nb_tr_steps += 1\n",
    "\n",
    "        print(\"Train loss: {}\".format(tr_loss / nb_tr_steps))\n",
    "\n",
    "        # Validation\n",
    "\n",
    "        # Put model in evaluation mode to evaluate loss on the validation set\n",
    "        model.eval()\n",
    "\n",
    "        # Tracking variables\n",
    "        eval_loss, eval_accuracy = 0, 0\n",
    "        nb_eval_steps, nb_eval_examples = 0, 0\n",
    "\n",
    "        # Evaluate data for one epoch\n",
    "        for batch in validation_dataloader:  # Add batch to GPU\n",
    "            batch = tuple(t.to(device) for t in batch)\n",
    "            # Unpack the inputs from our dataloader\n",
    "            b_input_ids, b_labels = batch\n",
    "            # Telling the model not to compute or store gradients, saving memory and speeding up validation\n",
    "            with torch.no_grad():\n",
    "                # Forward pass, calculate logit predictions\n",
    "                logits = model(b_input_ids, token_type_ids=None)\n",
    "\n",
    "        # Move logits and labels to CPU\n",
    "            logits = logits.detach().cpu().numpy()\n",
    "            label_ids = b_labels.to(\"cpu\").numpy()\n",
    "\n",
    "            tmp_eval_accuracy = flat_accuracy(logits, label_ids)\n",
    "\n",
    "            eval_accuracy += tmp_eval_accuracy\n",
    "            nb_eval_steps += 1\n",
    "\n",
    "        print(\"Validation Accuracy: {}\".format(eval_accuracy / nb_eval_steps))\n",
    "    all_losses_classicSGD.append(train_loss_set)"
   ]
  },
  {
   "cell_type": "code",
   "execution_count": 22,
   "id": "a4b631b5-e2f6-4ed1-8cb8-84d757806288",
   "metadata": {
    "execution": {
     "iopub.execute_input": "2024-12-04T06:26:03.708762Z",
     "iopub.status.busy": "2024-12-04T06:26:03.707200Z",
     "iopub.status.idle": "2024-12-04T06:26:04.100711Z",
     "shell.execute_reply": "2024-12-04T06:26:04.098974Z",
     "shell.execute_reply.started": "2024-12-04T06:26:03.708715Z"
    },
    "tags": []
   },
   "outputs": [
    {
     "ename": "AttributeError",
     "evalue": "'numpy.ndarray' object has no attribute 'pop'",
     "output_type": "error",
     "traceback": [
      "\u001b[0;31m---------------------------------------------------------------------------\u001b[0m",
      "\u001b[0;31mAttributeError\u001b[0m                            Traceback (most recent call last)",
      "\u001b[0;32m/tmp/ipykernel_10589/1140457884.py\u001b[0m in \u001b[0;36m<cell line: 1>\u001b[0;34m()\u001b[0m\n\u001b[0;32m----> 1\u001b[0;31m \u001b[0mall_losses_classicSGD\u001b[0m\u001b[0;34m[\u001b[0m\u001b[0;36m0\u001b[0m\u001b[0;34m]\u001b[0m\u001b[0;34m.\u001b[0m\u001b[0mpop\u001b[0m\u001b[0;34m(\u001b[0m\u001b[0;34m)\u001b[0m\u001b[0;34m\u001b[0m\u001b[0;34m\u001b[0m\u001b[0m\n\u001b[0m\u001b[1;32m      2\u001b[0m \u001b[0mall_losses_classicSGD\u001b[0m\u001b[0;34m[\u001b[0m\u001b[0;36m0\u001b[0m\u001b[0;34m]\u001b[0m\u001b[0;34m.\u001b[0m\u001b[0mpop\u001b[0m\u001b[0;34m(\u001b[0m\u001b[0;34m)\u001b[0m\u001b[0;34m\u001b[0m\u001b[0;34m\u001b[0m\u001b[0m\n\u001b[1;32m      3\u001b[0m \u001b[0mall_losses_classicSGD\u001b[0m\u001b[0;34m[\u001b[0m\u001b[0;36m1\u001b[0m\u001b[0;34m]\u001b[0m\u001b[0;34m.\u001b[0m\u001b[0mpop\u001b[0m\u001b[0;34m(\u001b[0m\u001b[0;34m)\u001b[0m\u001b[0;34m\u001b[0m\u001b[0;34m\u001b[0m\u001b[0m\n\u001b[1;32m      4\u001b[0m \u001b[0mall_losses_classicSGD\u001b[0m\u001b[0;34m[\u001b[0m\u001b[0;36m1\u001b[0m\u001b[0;34m]\u001b[0m\u001b[0;34m.\u001b[0m\u001b[0mpop\u001b[0m\u001b[0;34m(\u001b[0m\u001b[0;34m)\u001b[0m\u001b[0;34m\u001b[0m\u001b[0;34m\u001b[0m\u001b[0m\n\u001b[1;32m      5\u001b[0m \u001b[0;34m\u001b[0m\u001b[0m\n",
      "\u001b[0;31mAttributeError\u001b[0m: 'numpy.ndarray' object has no attribute 'pop'"
     ]
    }
   ],
   "source": [
    "\n",
    "#all_losses_classicSGD = np.array(all_losses_classicSGD)\n",
    "#all_losses_adaptiveSGD = np.array(all_losses_adaptiveSGD)\n",
    "#all_losses_classicADAM = np.array(all_losses_classicADAM)\n",
    "#all_losses_adaptiveADAM = np.array(all_losses_adaptiveADAM)"
   ]
  },
  {
   "cell_type": "code",
   "execution_count": 59,
   "id": "57055865-2b8d-4a77-8019-23a49809002d",
   "metadata": {
    "execution": {
     "iopub.execute_input": "2024-12-04T06:58:18.206943Z",
     "iopub.status.busy": "2024-12-04T06:58:18.205452Z",
     "iopub.status.idle": "2024-12-04T06:58:18.777693Z",
     "shell.execute_reply": "2024-12-04T06:58:18.776474Z",
     "shell.execute_reply.started": "2024-12-04T06:58:18.206890Z"
    },
    "tags": []
   },
   "outputs": [
    {
     "data": {
      "image/png": "[encoded data removed]",
      "text/plain": [
       "<Figure size 640x480 with 1 Axes>"
      ]
     },
     "metadata": {},
     "output_type": "display_data"
    }
   ],
   "source": [
    "\n",
    "plt.plot((all_losses_classicSGD[0] + all_losses_classicSGD[1]) / 2, label = \"ClassicSGD\")\n",
    "plt.plot((all_losses_adaptiveSGD[0] + all_losses_adaptiveSGD[1]) / 2, label = \"AdaptiveSGD\")\n",
    "plt.legend()\n",
    "plt.savefig('SGD_Graphics.png')\n",
    "plt.plot((all_losses_adaptiveADAM[0] + all_losses_adaptiveADAM[1]) / 2, label = \"AdaptiveADAM\", color = 'red')\n",
    "plt.plot((all_losses_classicADAM[0] + all_losses_classicADAM[1]) / 2, label = \"ClassicADAM\", color = 'green')\n",
    "plt.legend()\n",
    "plt.savefig('ADAM_Graphics.png')"
   ]
  },
  {
   "cell_type": "code",
   "execution_count": 55,
   "id": "17f698b1-e716-456f-afc8-7653a909fbca",
   "metadata": {
    "execution": {
     "iopub.execute_input": "2024-12-04T06:53:47.054130Z",
     "iopub.status.busy": "2024-12-04T06:53:47.053223Z",
     "iopub.status.idle": "2024-12-04T06:53:47.072570Z",
     "shell.execute_reply": "2024-12-04T06:53:47.071468Z",
     "shell.execute_reply.started": "2024-12-04T06:53:47.054095Z"
    },
    "tags": []
   },
   "outputs": [
    {
     "data": {
      "text/plain": [
       "479"
      ]
     },
     "execution_count": 55,
     "metadata": {},
     "output_type": "execute_result"
    }
   ],
   "source": []
  },
  {
   "cell_type": "code",
   "execution_count": 60,
   "id": "e7da89cf-f4ee-4fa4-a946-454335297f1a",
   "metadata": {
    "execution": {
     "iopub.execute_input": "2024-12-04T06:59:37.000526Z",
     "iopub.status.busy": "2024-12-04T06:59:36.999083Z",
     "iopub.status.idle": "2024-12-04T06:59:39.091769Z",
     "shell.execute_reply": "2024-12-04T06:59:39.090360Z",
     "shell.execute_reply.started": "2024-12-04T06:59:37.000490Z"
    },
    "tags": []
   },
   "outputs": [
    {
     "data": {
      "image/png": "[encoded data removed]",
      "text/plain": [
       "<Figure size 500x500 with 1 Axes>"
      ]
     },
     "metadata": {},
     "output_type": "display_data"
    },
    {
     "data": {
      "image/png": "[encoded data removed]",
      "text/plain": [
       "<Figure size 500x500 with 1 Axes>"
      ]
     },
     "metadata": {},
     "output_type": "display_data"
    },
    {
     "data": {
      "image/png": "[encoded data removed]",
      "text/plain": [
       "<Figure size 500x500 with 1 Axes>"
      ]
     },
     "metadata": {},
     "output_type": "display_data"
    },
    {
     "data": {
      "image/png": "[encoded data removed]",
      "text/plain": [
       "<Figure size 500x500 with 1 Axes>"
      ]
     },
     "metadata": {},
     "output_type": "display_data"
    }
   ],
   "source": [
    "\n",
    "bathes_graphs = {'Batche sizes adaptive ADAM test 1' : all_bathes[0][:479],'Batche sizes adaptive ADAM test 2' : all_bathes[2],'Batche sizes adaptive SGD test 1' : all_bathes[4],'Batche sizes adaptive SGD test 2' : all_bathes[6]}\n",
    "\n",
    "sns.displot(bathes_graphs,x =\"Batche sizes adaptive ADAM test 1\",   kind=\"kde\")\n",
    "plt.savefig(\"Batche sizes adaptive ADAM test 1\")\n",
    "sns.displot(bathes_graphs,x =\"Batche sizes adaptive ADAM test 2\",   kind=\"kde\")\n",
    "plt.savefig(\"Batche sizes adaptive ADAM test 2\")\n",
    "sns.displot(bathes_graphs,x =\"Batche sizes adaptive SGD test 1\",   kind=\"kde\")\n",
    "plt.savefig(\"Batche sizes adaptive SGD test 1\")\n",
    "sns.displot(bathes_graphs,x =\"Batche sizes adaptive SGD test 2\",   kind=\"kde\")\n",
    "plt.savefig(\"Batche sizes adaptive SGD test 2\")\n",
    "\n"
   ]
  },
  {
   "cell_type": "code",
   "execution_count": null,
   "id": "d670853e-3f8f-40e1-ac6c-b016ecd809fc",
   "metadata": {
    "tags": []
   },
   "outputs": [],
   "source": []
  },
  {
   "cell_type": "code",
   "execution_count": null,
   "id": "c87fec41-8905-4c90-ba65-3ebb1cb82161",
   "metadata": {},
   "outputs": [],
   "source": []
  }
 ],
 "metadata": {
  "kernelspec": {
   "display_name": "DataSphere Kernel",
   "language": "python",
   "name": "python3"
  },
  "language_info": {
   "codemirror_mode": {
    "name": "ipython",
    "version": 3
   },
   "file_extension": ".py",
   "mimetype": "text/x-python",
   "name": "python",
   "nbconvert_exporter": "python",
   "pygments_lexer": "ipython3",
   "version": "3.10.12"
  }
 },
 "nbformat": 4,
 "nbformat_minor": 5
}
